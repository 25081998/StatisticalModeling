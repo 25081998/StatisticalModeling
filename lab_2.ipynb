{
 "cells": [
  {
   "cell_type": "markdown",
   "metadata": {},
   "source": [
    "# Лабораторная работа № 2\n",
    "# Бабичева Анна М8О-404Б-17\n",
    "# Вариант № 2"
   ]
  },
  {
   "cell_type": "markdown",
   "metadata": {},
   "source": [
    "### Задание. Построить формирующий фильтр для случайного процесса $X(t)$, имеющего спектральную плотность $f_X(\\lambda)$. Смоделировать три реализации этого процесса на промежутке $[0;10]$ методом численного интегрирования уравнений формирующего фильтра (шаг интегрирования $h=0.05$, нулевые начальные значения). $$f_X(\\lambda)=\\frac{2(1+\\lambda^2)}{(1+4.25i\\lambda-\\lambda^2)(1-4.25i\\lambda-\\lambda^2)}$$"
   ]
  },
  {
   "cell_type": "markdown",
   "metadata": {},
   "source": [
    "Импортирую необходимые библиотеки:"
   ]
  },
  {
   "cell_type": "code",
   "execution_count": 1,
   "metadata": {},
   "outputs": [],
   "source": [
    "import time\n",
    "import math\n",
    "\n",
    "import matplotlib.pyplot as plt\n",
    "import numpy as np\n"
   ]
  },
  {
   "cell_type": "markdown",
   "metadata": {},
   "source": [
    "## Моделирование белого шума"
   ]
  },
  {
   "cell_type": "markdown",
   "metadata": {},
   "source": [
    "Пусть имеется $n$ одинаково распределенных независимых случайных величин $V_1, V_2, ..., V_n$. $\\{v_1, v_2, ..., v_n\\}$ - реализации соответствующих случайных величин. Случайный процесс $V(t)$ - белый шум, если $V(t_i)=v_i, t=1...n$."
   ]
  },
  {
   "cell_type": "markdown",
   "metadata": {},
   "source": [
    "Стационарный случайный процесс с дробно-рациональной спектральной плотностью может быть построен с помощью линейного дифференциального уравнения с постоянными коэффициентами, на вход которого подается белый шум с единичной спектральной плотностью $S_V(\\omega)=1$. Для такой спектральной плотности $\\sigma_V^2=2\\pi$.\n"
   ]
  },
  {
   "cell_type": "markdown",
   "metadata": {},
   "source": [
    "В качестве распределения случайных величин будем брать $N(0,\\sigma_V^2)$.\n"
   ]
  },
  {
   "cell_type": "markdown",
   "metadata": {},
   "source": [
    "При построении формирующего фильтра будет использоваться нормированный процесс дискретного белого шума $\\mathtt{\\sim}N(0,1)$.\n"
   ]
  },
  {
   "cell_type": "markdown",
   "metadata": {},
   "source": [
    "При моделировании белого шума воспользуюсь результатми из предыдущей работы:"
   ]
  },
  {
   "cell_type": "code",
   "execution_count": 2,
   "metadata": {},
   "outputs": [],
   "source": [
    "# равномерное распределение на (0, 1)\n",
    "def R01(n, t, q, p, X0):\n",
    "    M = p ** q\n",
    "    if X0 == None:\n",
    "        X0 = round(time.time() * M)\n",
    "        if X0 % 2 == 0:\n",
    "            X0 -= 1\n",
    "    mu = round(time.time() / 100)\n",
    "    \n",
    "    l = 8 * t - 3\n",
    "    X = []\n",
    "    for i in range(n):\n",
    "        X1 = (l * X0 + mu) % M\n",
    "        X.append(X1 / M)\n",
    "        X0 = X1\n",
    "    return X\n",
    "# равномерное распределение на (a, b)\n",
    "def R(a, b, n=1, t=1, q=6, p=10, X0=None):\n",
    "    X = R01(n, t, q, p, X0)\n",
    "    Y = [(b - a) * x + a for x in X]\n",
    "    return np.array(Y)\n",
    "# нормальное распределение с m=0 sigma=1\n",
    "def N01(n):\n",
    "    X = []\n",
    "    for i in range(n):\n",
    "        r = R(a=0, b=1, n=12)\n",
    "        X.append((sum(r) - 6) / 1)\n",
    "    return X\n",
    "# нормальное распределение с m=m sigma=sigma\n",
    "def N(m, sigma, n=1):\n",
    "    X = N01(n)\n",
    "    Y = [sigma * x + m for x in X]\n",
    "    return np.array(Y)\n"
   ]
  },
  {
   "cell_type": "code",
   "execution_count": 7,
   "metadata": {},
   "outputs": [],
   "source": [
    "# белый шум\n",
    "def V(n=1):\n",
    "    X = N(0, 2 * math.pi, n=n)\n",
    "    return np.array(X)\n"
   ]
  },
  {
   "cell_type": "markdown",
   "metadata": {},
   "source": [
    "## Формирующий фильтр\n"
   ]
  },
  {
   "cell_type": "markdown",
   "metadata": {},
   "source": [
    "Предполагаем процесс $V(t)$ - гауссовским, нормированным условием $S_V=\\frac{1}{2\\pi}$. Чтобы найти передаточную функцию формирующего фильтра $\\Phi(\\lambda)$, спектральную плотность процесса $X(t)$ представляют в виде произведения двух комплексно-сопряженных сомножителей, а для дробно-рациональной $f_X(\\lambda)$ функция $\\Phi(\\lambda)$ имеет вид:"
   ]
  },
  {
   "cell_type": "markdown",
   "metadata": {},
   "source": [
    "$$\\Phi(\\lambda)=\\frac{1}{\\sqrt{S_V}}\\frac{F(\\lambda)}{H(\\lambda)}$$"
   ]
  },
  {
   "cell_type": "markdown",
   "metadata": {},
   "source": [
    "где\n",
    "\n",
    "$F(\\lambda)=2(1+\\lambda^2)$\n",
    "\n",
    "$H(\\lambda)=(1+4.25i\\lambda-\\lambda^2)(1-4.25i\\lambda-\\lambda^2)$\n"
   ]
  },
  {
   "cell_type": "markdown",
   "metadata": {},
   "source": [
    "Ей соответствует дифференциальное уравнение:"
   ]
  },
  {
   "cell_type": "markdown",
   "metadata": {},
   "source": [
    "$$H(D)X(t)=\\sqrt{S_V}F(D)V(t),\\quad D=\\frac{d}{dt}$$"
   ]
  },
  {
   "cell_type": "markdown",
   "metadata": {},
   "source": [
    "Из данной формулы получаем уравнение формирующего фильтра:"
   ]
  },
  {
   "cell_type": "markdown",
   "metadata": {},
   "source": [
    "$$H(D)X(t)=\\sqrt{\\frac{2\\pi}{h}}F(D)V(t)$$"
   ]
  },
  {
   "cell_type": "markdown",
   "metadata": {},
   "source": [
    "где $h$ - шаг интегрирования дифференциального уравнения формирующего фильтра."
   ]
  },
  {
   "cell_type": "markdown",
   "metadata": {},
   "source": [
    "Таким образом, получаю ДУ 4 порядка:"
   ]
  },
  {
   "cell_type": "markdown",
   "metadata": {},
   "source": [
    "$$\\ddddot{x}+16.0625\\ddot{x}+x=2\\sqrt{\\frac{2\\pi}{h}}(\\ddot{v}+v)$$\n"
   ]
  },
  {
   "cell_type": "markdown",
   "metadata": {},
   "source": [
    "Данное дифференциальное уравнение сводится к системе дифференциальных уравнений первого порядка:"
   ]
  },
  {
   "cell_type": "markdown",
   "metadata": {},
   "source": [
    "\\begin{cases}\n",
    "    \\dot{x_1}=x_2\n",
    "    \\\\\n",
    "    \\dot{x_2}=x_3+2\\sqrt{\\frac{2\\pi}{h}}v\n",
    "    \\\\\n",
    "    \\dot{x_3}=x_4\n",
    "    \\\\\n",
    "    \\dot{x_4}=-16.0625x_3-x_1+2\\sqrt{\\frac{2\\pi}{h}}v\n",
    "\\end{cases}"
   ]
  },
  {
   "cell_type": "markdown",
   "metadata": {},
   "source": [
    "Данную систему можно переписать в виде:"
   ]
  },
  {
   "cell_type": "markdown",
   "metadata": {},
   "source": [
    "\\begin{cases}\n",
    "    d{x_1}=x_2dt\n",
    "    \\\\\n",
    "    d{x_2}=x_3dt+2\\sqrt{\\frac{2\\pi}{h}}vdt\n",
    "    \\\\\n",
    "    d{x_3}=x_4dt\n",
    "    \\\\\n",
    "    d{x_4}=-16.0625x_3dt-x_1dt+2\\sqrt{\\frac{2\\pi}{h}}vdt\n",
    "\\end{cases}"
   ]
  },
  {
   "cell_type": "markdown",
   "metadata": {},
   "source": [
    "$V(t)dt=dW(t)$"
   ]
  },
  {
   "cell_type": "markdown",
   "metadata": {},
   "source": [
    "Конечно-разностная аппроксимация приводит к виду:"
   ]
  },
  {
   "cell_type": "markdown",
   "metadata": {},
   "source": [
    "\\begin{cases}\n",
    "    x_1=X\n",
    "    \\\\\n",
    "    x_1(t+h)=x_1(t)+x_2(t)h\n",
    "    \\\\\n",
    "    x_2(t+h)=x_2(t)+x_3(t)h+2\\sqrt{\\frac{2\\pi}{h}}\\sqrt{h}\\epsilon_t\n",
    "    \\\\\n",
    "    x_3(t+h)=x_3(t)+x_4(t)h\n",
    "    \\\\\n",
    "    x_4(t+h)=x_4(t)-16.0625x_3(t)h-x_1(t)h+2\\sqrt{\\frac{2\\pi}{h}}\\sqrt{h}\\epsilon_t\n",
    "    \\\\\n",
    "    \\epsilon_t\\mathtt{\\sim}N(0,1)\n",
    "\\end{cases}"
   ]
  },
  {
   "cell_type": "markdown",
   "metadata": {},
   "source": [
    "## Метод Эйлера решения ССДУ"
   ]
  },
  {
   "cell_type": "markdown",
   "metadata": {},
   "source": [
    "Для данной схемы медот Эйлера:"
   ]
  },
  {
   "cell_type": "markdown",
   "metadata": {},
   "source": [
    "\\begin{cases}\n",
    "    x_{1_0}=x_{2_0}=x_{3_0}=x_{4_0}=0\n",
    "    \\\\\n",
    "    x_{1_{j+1}}=x_{1_j}+hx_{2_j}\n",
    "    \\\\\n",
    "    x_{2_{j+1}}=x_{2_j}+hx_{3_j}+2\\sqrt{2\\pi}\\epsilon_t\n",
    "    \\\\\n",
    "    x_{3_{j+1}}=x_{3_j}+hx_{4_j}\n",
    "    \\\\\n",
    "    x_{4_{j+1}}=x_{4_j}-h(16.0625x_{3_j}+x_{1_j})+2\\sqrt{2\\pi}\\epsilon_t\n",
    "    \\\\\n",
    "    t_{j+1}=t_j+h\n",
    "    \\\\\n",
    "    \\epsilon_t\\mathtt{\\sim}N(0,1)\n",
    "    \\\\\n",
    "    x_1=X\n",
    "\\end{cases}"
   ]
  },
  {
   "cell_type": "code",
   "execution_count": 4,
   "metadata": {},
   "outputs": [],
   "source": [
    "# метод Эйлера\n",
    "def Eiler(x10=0, x20=0, x30=0, x40=0, t_min=0, t_max=10, h=0.05):\n",
    "    if (t_max < t_min) | (t_min * t_max < 0):\n",
    "        raise Exception(\"Неверно заданы временные границы\")\n",
    "    t = np.arange(0, 10 + h, h)\n",
    "    x1 = [x10]\n",
    "    x2 = [x20]\n",
    "    x3 = [x30]\n",
    "    x4 = [x40]\n",
    "    e = [N(0, 1)]\n",
    "    \n",
    "    for j in range(len(t) - 1):\n",
    "        x1.append(x1[j] + h * x2[j])\n",
    "        x2.append(x2[j] + h * x3[j] + 2 * math.sqrt(2 * math.pi) * e[j])\n",
    "        x3.append(x3[j] + h * x4[j])\n",
    "        x4.append(x4[j] - h * (16.0625 * x3[j] + x1[j]) + 2 * math.sqrt(2 * math.pi) * e[j])\n",
    "        e.append(N(0, 1))\n",
    "    return t, x1, e\n"
   ]
  },
  {
   "cell_type": "markdown",
   "metadata": {},
   "source": [
    "Получим реализации:"
   ]
  },
  {
   "cell_type": "code",
   "execution_count": 6,
   "metadata": {},
   "outputs": [],
   "source": [
    "t, X_1, e_1 = Eiler()\n",
    "t, X_2, e_2 = Eiler()\n",
    "t, X_3, e_3 = Eiler()\n"
   ]
  },
  {
   "cell_type": "markdown",
   "metadata": {},
   "source": [
    "### Графики реализаций"
   ]
  },
  {
   "cell_type": "code",
   "execution_count": 8,
   "metadata": {},
   "outputs": [
    {
     "data": {
      "image/png": "[encoded data removed]",
      "text/plain": [
       "<Figure size 1080x720 with 1 Axes>"
      ]
     },
     "metadata": {
      "needs_background": "light"
     },
     "output_type": "display_data"
    }
   ],
   "source": [
    "# график\n",
    "fig = plt.figure(figsize=(15, 10))\n",
    "plt.grid()\n",
    "\n",
    "plt.scatter(t, X_1)\n",
    "plt.scatter(t, X_2)\n",
    "plt.scatter(t, X_3)\n",
    "\n",
    "plt.legend(['1 реализация', '2 реализация', '3 реализация'])\n",
    "plt.show()\n"
   ]
  },
  {
   "cell_type": "markdown",
   "metadata": {},
   "source": [
    "### Графики $\\epsilon_t$"
   ]
  },
  {
   "cell_type": "code",
   "execution_count": 9,
   "metadata": {},
   "outputs": [
    {
     "data": {
      "image/png": "[encoded data removed]",
      "text/plain": [
       "<Figure size 1080x720 with 1 Axes>"
      ]
     },
     "metadata": {
      "needs_background": "light"
     },
     "output_type": "display_data"
    }
   ],
   "source": [
    "# график\n",
    "fig = plt.figure(figsize=(15, 10))\n",
    "plt.grid()\n",
    "\n",
    "plt.scatter(t, e_1)\n",
    "plt.scatter(t, e_2)\n",
    "plt.scatter(t, e_3)\n",
    "\n",
    "plt.legend(['1 реализация', '2 реализация', '3 реализация'])\n",
    "plt.show()\n"
   ]
  }
 ],
 "metadata": {
  "kernelspec": {
   "display_name": "Python 3",
   "language": "python",
   "name": "python3"
  },
  "language_info": {
   "codemirror_mode": {
    "name": "ipython",
    "version": 3
   },
   "file_extension": ".py",
   "mimetype": "text/x-python",
   "name": "python",
   "nbconvert_exporter": "python",
   "pygments_lexer": "ipython3",
   "version": "3.7.3"
  }
 },
 "nbformat": 4,
 "nbformat_minor": 2
}
